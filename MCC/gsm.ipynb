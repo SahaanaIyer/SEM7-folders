{
  "nbformat": 4,
  "nbformat_minor": 0,
  "metadata": {
    "colab": {
      "name": "8609_MCC_Expt4_GSM",
      "provenance": [],
      "collapsed_sections": []
    },
    "kernelspec": {
      "name": "python3",
      "display_name": "Python 3"
    },
    "language_info": {
      "name": "python"
    }
  },
  "cells": [
    {
      "cell_type": "code",
      "metadata": {
        "id": "ikhLQt61OgPm"
      },
      "source": [
        "import numpy as np\n",
        "import random\n",
        "reg_1 = np.empty   #Register X\n",
        "reg_2 = np.empty   #Register Y\n",
        "reg_3 = np.empty   #Register Z"
      ],
      "execution_count": null,
      "outputs": []
    },
    {
      "cell_type": "code",
      "metadata": {
        "id": "qHEtZm3xPipl"
      },
      "source": [
        "def user_input():\n",
        "  k=random.getrandbits(128)     # ki\n",
        "  print(k)\n",
        "  m=random.getrandbits(128)     # 128-bit random\n",
        "  print(m)\n",
        "  kb=bin(k)[2:]\n",
        "  mb=bin(m)[2:]\n",
        "  kbl=kb[0:64]\n",
        "  kbr=kb[64:]\n",
        "  mbl=mb[0:64]\n",
        "  mbr=mb[64:]\n",
        "  a1=int(kbl,2)^int(mbr,2)\n",
        "  a2=int(kbr,2)^int(mbl,2)\n",
        "  a3=a1^a2\n",
        "  a4=bin(a3)[2:].zfill(64)\n",
        "  a5=a4[0:32]\n",
        "  a6=a4[32:]\n",
        "  a7=int(a5,2)^int(a6,2)\n",
        "  print(\"128 Bit Key = \",kb)\n",
        "  print(\"128 Random Bits Generated = \",mb)\n",
        "  print(\"RES/SRES = \",bin(a7)[2:].zfill(len(a5)))\n",
        "  return kb"
      ],
      "execution_count": null,
      "outputs": []
    },
    {
      "cell_type": "code",
      "metadata": {
        "id": "qM40cIeIiKJS"
      },
      "source": [
        "def load_key(key):\n",
        "  global reg_1\n",
        "  global reg_2\n",
        "  global reg_3\n",
        "  reg_1 = key[0:19]     # Register X has 19 bits\n",
        "  reg_2 = key[19:41]    # Register Y has 22 bits\n",
        "  reg_3 = key[41:64]    # Register Z has 23 bits\n",
        "  #print(\"Registers loaded succesfully\")"
      ],
      "execution_count": null,
      "outputs": []
    },
    {
      "cell_type": "code",
      "metadata": {
        "id": "SftlPSlFiO7d"
      },
      "source": [
        "def to_binary(plain):\n",
        "  s = \"\"\n",
        "  i = 0    # i = word\n",
        "  for i in plain:\n",
        "    binary = str(' '.join(format(ord(x), 'b') for x in i))      # ord converts a character into its Unicode value    # b is for binary format\n",
        "    j = len(binary)\n",
        "    while(j < 8):\n",
        "      binary = \"0\" + binary\n",
        "      s = s + binary\n",
        "      j = j + 1\n",
        "  binary_values = []\n",
        "  k = 0\n",
        "  while(k < len(s)):\n",
        "    binary_values.insert(k, int(s[k]))                           # Converts to a stream of plain text\n",
        "    k = k + 1\n",
        "  return binary_values"
      ],
      "execution_count": null,
      "outputs": []
    },
    {
      "cell_type": "code",
      "metadata": {
        "id": "B1Xstm9iiNKO"
      },
      "source": [
        "def get_majority(a,b,c):\n",
        "  if int(a) + int(b) + int(c) > 1:\n",
        "    return True\n",
        "  else:\n",
        "    return False"
      ],
      "execution_count": null,
      "outputs": []
    },
    {
      "cell_type": "code",
      "metadata": {
        "id": "VGFiE-SpiLnQ"
      },
      "source": [
        "def clock_a5(length):\n",
        "    global reg_1\n",
        "    global reg_2\n",
        "    global reg_3\n",
        "    keystream = []\n",
        "    i = 0\n",
        "    while i < length:\n",
        "      majority = get_majority(reg_1[8], reg_2[10], reg_3[10])\n",
        "\n",
        "      if reg_1[8] == majority:\n",
        "        first_bit = int(reg_1[18]) ^ int(reg_1[17]) ^ int(reg_1[16]) ^ int(reg_1[13]) #XOR bits 13,16,17,18 of Register X\n",
        "        temp_arr1 = np.empty_like(reg_1) # array like\n",
        "        temp_arr1[0] = first_bit # assign first bit to bit 0\n",
        "        temp_arr1[1:] = reg_1[:18] # Left shift\n",
        "        reg_1 = temp_arr1\n",
        "\n",
        "    if reg_2[10] == majority:\n",
        "      first_bit = int(reg_2[20]) ^ int(reg_2[21])# XOR bits 20,21 of Register Y\n",
        "      temp_arr2 = np.empty_like(reg_2) # array like\n",
        "      temp_arr2[0] = first_bit # assign first bit to bit 0\n",
        "      temp_arr2[1:] = reg_2[:21] # Left shift\n",
        "      reg_2 = temp_arr2\n",
        "\n",
        "    if reg_3[10] == majority:\n",
        "      first_bit = int(reg_3[20]) ^ int(reg_3[21]) ^ int(reg_3[22]) # XORbits 20,21,22 of Register Z\n",
        "      temp_arr3 = np.empty_like(reg_3) # array like\n",
        "      temp_arr3[0] = first_bit # assign first bit to bit 0\n",
        "      temp_arr3[1:] = reg_3[:22] # Left shift\n",
        "      reg_3 = temp_arr3\n",
        "    keystream.insert(i, int(reg_1[18]) ^ int(reg_2[21]) ^ int(reg_3[22]))\n",
        "    i = i + 1\n",
        "    return keystream"
      ],
      "execution_count": null,
      "outputs": []
    },
    {
      "cell_type": "code",
      "metadata": {
        "id": "Q8poBHCti5pa",
        "colab": {
          "base_uri": "https://localhost:8080/"
        },
        "outputId": "91a50967-f2ec-40c5-fbe4-4b2c1954daf0"
      },
      "source": [
        "key = user_input()                                              # COMP-128\n",
        "load_key(key)\n",
        "plain_text = input(\"Please enter plain text \")\n",
        "encrypt = \"\"\n",
        "i = 0\n",
        "binary = to_binary(plain_text)\n",
        "keystream = clock_a5(len(binary))\n",
        "\n",
        "while(i < len(binary)):\n",
        "  encrypt = encrypt + str(binary[i] ^ keystream[i])             # XOR of plain text bit and stream cipher bit\n",
        "  i = i + 1\n",
        "print(\"Encrypted Plaintext: \"+ encrypt)"
      ],
      "execution_count": null,
      "outputs": [
        {
          "name": "stdout",
          "output_type": "stream",
          "text": [
            "299597933425681455181881225524531021407\n",
            "189330597383533099240448763067154626089\n",
            "128 Bit Key =  11100001011001000111011010001111011011101011010001100100001000010100110000110110111110111010000111001101110000011100011001011111\n",
            "128 Random Bits Generated =  10001110011011111011111100100111000000100001010110010001010110111010101100100110111100100110111001011000101100001111011000101001\n",
            "RES/SRES =  01110001110010110000010101101011\n",
            "Please enter plain text aditi\n"
          ]
        }
      ]
    }
  ]
}