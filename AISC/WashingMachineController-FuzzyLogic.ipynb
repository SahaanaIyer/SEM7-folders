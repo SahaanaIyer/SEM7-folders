{
  "nbformat": 4,
  "nbformat_minor": 0,
  "metadata": {
    "colab": {
      "name": "8609_AISC_Expt6.1",
      "provenance": []
    },
    "kernelspec": {
      "name": "python3",
      "display_name": "Python 3"
    },
    "language_info": {
      "name": "python"
    }
  },
  "cells": [
    {
      "cell_type": "code",
      "metadata": {
        "id": "4_A3eZ5dsahP"
      },
      "source": [
        "def membership_functions (value, variable, descriptor) :\n",
        "  if (variable == 'dirt') :\n",
        "    if (descriptor == 'sd' and value >= 0 and value <= 50) :\n",
        "      return (50 - value) / 50\n",
        "    elif (descriptor == 'md' and value >= 0 and value <= 50) :\n",
        "      return value / 50\n",
        "    elif (descriptor == 'md' and value > 50 and value <= 100) :\n",
        "      return (100 - value) / 50\n",
        "    elif (descriptor == 'ld' and value >= 50 and value <= 100) :\n",
        "      return (value - 50) / 50\n",
        "  elif (variable == 'grease') :\n",
        "    if (descriptor == 'sg' and value >= 0 and value <= 50) :\n",
        "      return (50 - value) / 50\n",
        "    elif (descriptor == 'mg' and value >= 0 and value <= 50) :\n",
        "      return value / 50\n",
        "    elif (descriptor == 'mg' and value > 50 and value <= 100) :\n",
        "      return (100 - value) / 50\n",
        "    elif (descriptor == 'lg' and value >= 50 and value <= 100) :\n",
        "      return (value - 50) / 50    "
      ],
      "execution_count": null,
      "outputs": []
    },
    {
      "cell_type": "code",
      "metadata": {
        "id": "kV6tIe9IvrbJ"
      },
      "source": [
        "def rule_base (dirt, grease) :\n",
        "  if (dirt == 'sd') :\n",
        "    dirt = 0\n",
        "  elif (dirt == 'md') :\n",
        "    dirt = 1\n",
        "  elif (dirt == 'ld') :\n",
        "    dirt = 2\n",
        "  if (grease == 'sg') :\n",
        "    grease = 0\n",
        "  elif (grease == 'mg') :\n",
        "    grease = 1\n",
        "  elif (grease == 'lg') :\n",
        "    grease = 2\n",
        "  rules = [['vs', 'm', 'l'], ['s', 'm', 'l'], ['m', 'l', 'vl']]\n",
        "  return rules[dirt][grease]"
      ],
      "execution_count": null,
      "outputs": []
    },
    {
      "cell_type": "code",
      "metadata": {
        "id": "tfEKopOpwTA4"
      },
      "source": [
        "def mapping_dirt (percent) :\n",
        "  temp, temp1 = [], []\n",
        "  if (percent >= 0 and percent <= 50) :\n",
        "    temp.append(membership_functions(percent, 'dirt', 'sd'))\n",
        "    temp1.append('sd')\n",
        "  if (percent >= 0 and percent <= 100) :\n",
        "    temp.append(membership_functions(percent, 'dirt', 'md'))\n",
        "    temp1.append('md')\n",
        "  if (percent >= 50 and percent <= 100) :\n",
        "    temp.append(membership_functions(percent, 'dirt', 'ld'))\n",
        "    temp1.append('ld')\n",
        "  return temp, temp1\n",
        "\n",
        "def mapping_grease (percent) :\n",
        "  temp, temp1 = [], []\n",
        "  if (percent >= 0 and percent <= 50) :\n",
        "    temp.append(membership_functions(percent, 'grease', 'sg'))\n",
        "    temp1.append('sg')\n",
        "  if (percent >= 0 and percent <= 100) :\n",
        "    temp.append(membership_functions(percent, 'grease', 'mg'))\n",
        "    temp1.append('mg')\n",
        "  if (percent >= 50 and percent <= 100) :\n",
        "    temp.append(membership_functions(percent, 'grease', 'lg'))\n",
        "    temp1.append('lg')\n",
        "  return temp, temp1   "
      ],
      "execution_count": null,
      "outputs": []
    },
    {
      "cell_type": "code",
      "metadata": {
        "id": "y4juJFlkxBFW"
      },
      "source": [
        "def mapping_washing_time (variable, value) :\n",
        "  temp = []\n",
        "  if (variable == 'vs') :\n",
        "    temp.append((-1) * ((value * 10) - 10))\n",
        "  elif (variable == 's') :\n",
        "    temp.append(value * 10)\n",
        "    temp.append((-1) * ((value * 15) - 25))\n",
        "  elif (variable == 'm') :\n",
        "    temp.append((value * 15) + 10)\n",
        "    temp.append((-1) * ((value * 15) - 40))\n",
        "  elif (variable == 'l') :\n",
        "    temp.append((value * 15) + 25)\n",
        "    temp.append((-1) * ((value * 20) - 60))\n",
        "  elif (variable == 'vl') :\n",
        "    temp.append((value * 20) + 40)\n",
        "  return sum(temp) / len(temp)"
      ],
      "execution_count": null,
      "outputs": []
    },
    {
      "cell_type": "code",
      "metadata": {
        "colab": {
          "base_uri": "https://localhost:8080/"
        },
        "id": "0iM6rbh9seHp",
        "outputId": "3f1ec5bb-0355-4820-ff61-c0063f73de01"
      },
      "source": [
        "import itertools as it\n",
        "d = int(input(\"Enter dirt percent : \"))\n",
        "g = int(input(\"Enter grease percent : \"))\n",
        "\n",
        "dirt = {'sd': 'Small Dirt', 'md': 'Medium Dirt', 'ld': 'Large Dirt'}\n",
        "grease = {'sg': 'Small Grease', 'mg': 'Medium Grease', 'lg': 'Large Grease'}\n",
        "\n",
        "l1, l1_rule = mapping_dirt(d)\n",
        "l2, l2_rule = mapping_grease(g)\n",
        "\n",
        "a = list(map(min, list(it.product(l1, l2))))\n",
        "b = list(it.product(l1_rule, l2_rule))\n",
        "\n",
        "temp1, temp2 = list(map(str, b[a.index(max(a))]))\n",
        "print(\"Input: \", dirt[temp1], grease[temp2])\n",
        "output = mapping_washing_time(rule_base(temp1, temp2), max(a))\n",
        "print(\"Output: \", output)"
      ],
      "execution_count": null,
      "outputs": [
        {
          "output_type": "stream",
          "name": "stdout",
          "text": [
            "Enter dirt percent : 60\n",
            "Enter grease percent : 70\n",
            "Input:  Medium Dirt Medium Grease\n",
            "Output:  25.0\n"
          ]
        }
      ]
    }
  ]
}