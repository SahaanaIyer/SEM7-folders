{
  "nbformat": 4,
  "nbformat_minor": 0,
  "metadata": {
    "colab": {
      "name": "Water Purifier Controller",
      "provenance": [],
      "collapsed_sections": []
    },
    "kernelspec": {
      "name": "python3",
      "display_name": "Python 3"
    },
    "language_info": {
      "name": "python"
    }
  },
  "cells": [
    {
      "cell_type": "code",
      "metadata": {
        "id": "4_A3eZ5dsahP"
      },
      "source": [
        "def membership_functions (value, variable, descriptor) :\n",
        "  if (variable == 'temperature') :\n",
        "    if (descriptor == 'ct' and value >= 0 and value <= 50) :\n",
        "      return (50 - value) / 50\n",
        "    elif (descriptor == 'mt' and value >= 0 and value <= 50) :\n",
        "      return value / 50\n",
        "    elif (descriptor == 'mt' and value > 50 and value <= 100) :\n",
        "      return (100 - value) / 50\n",
        "    elif (descriptor == 'ht' and value >= 50 and value <= 100) :\n",
        "      return (value - 50) / 50\n",
        "  elif (variable == 'grade') :\n",
        "    if (descriptor == 'lg' and value >= 0 and value <= 50) :\n",
        "      return (50 - value) / 50\n",
        "    elif (descriptor == 'mg' and value >= 0 and value <= 50) :\n",
        "      return value / 50\n",
        "    elif (descriptor == 'mg' and value > 50 and value <= 100) :\n",
        "      return (100 - value) / 50\n",
        "    elif (descriptor == 'hg' and value >= 50 and value <= 100) :\n",
        "      return (value - 50) / 50    "
      ],
      "execution_count": null,
      "outputs": []
    },
    {
      "cell_type": "code",
      "metadata": {
        "id": "kV6tIe9IvrbJ"
      },
      "source": [
        "def rule_base (temperature, grade) :\n",
        "  if (temperature == 'ct') :\n",
        "    temperature = 0\n",
        "  elif (temperature == 'mt') :\n",
        "    temperature = 1\n",
        "  elif (temperature == 'ht') :\n",
        "    temperature = 2\n",
        "  if (grade == 'lg') :\n",
        "    grade = 0\n",
        "  elif (grade == 'mg') :\n",
        "    grade = 1\n",
        "  elif (grade == 'hg') :\n",
        "    grade = 2\n",
        "  rules = [['l', 'm', 's'], ['l', 'm', 'm'], ['m', 's', 's']]\n",
        "  return rules[temperature][grade]"
      ],
      "execution_count": null,
      "outputs": []
    },
    {
      "cell_type": "code",
      "metadata": {
        "id": "tfEKopOpwTA4"
      },
      "source": [
        "def mapping_temperature (percent) :\n",
        "  temp, temp1 = [], []\n",
        "  if (percent >= 0 and percent <= 50) :\n",
        "    temp.append(membership_functions(percent, 'temperature', 'ct'))\n",
        "    temp1.append('ct')\n",
        "  if (percent >= 0 and percent <= 100) :\n",
        "    temp.append(membership_functions(percent, 'temperature', 'mt'))\n",
        "    temp1.append('mt')\n",
        "  if (percent >= 50 and percent <= 100) :\n",
        "    temp.append(membership_functions(percent, 'temperature', 'ht'))\n",
        "    temp1.append('ht')\n",
        "  return temp, temp1\n",
        "\n",
        "def mapping_grade (percent) :\n",
        "  temp, temp1 = [], []\n",
        "  if (percent >= 0 and percent <= 50) :\n",
        "    temp.append(membership_functions(percent, 'grade', 'lg'))\n",
        "    temp1.append('lg')\n",
        "  if (percent >= 0 and percent <= 100) :\n",
        "    temp.append(membership_functions(percent, 'grade', 'mg'))\n",
        "    temp1.append('mg')\n",
        "  if (percent >= 50 and percent <= 100) :\n",
        "    temp.append(membership_functions(percent, 'grade', 'hg'))\n",
        "    temp1.append('hg')\n",
        "  return temp, temp1   "
      ],
      "execution_count": null,
      "outputs": []
    },
    {
      "cell_type": "code",
      "metadata": {
        "id": "y4juJFlkxBFW"
      },
      "source": [
        "def mapping_purifier (variable, value) :\n",
        "  temp = []\n",
        "  if (variable == 's') :\n",
        "    temp.append((-1) * ((value * 5) - 5))\n",
        "  elif (variable == 'm') :\n",
        "    temp.append(value * 5)\n",
        "    temp.append((-1) * ((value * 5) - 10))\n",
        "  elif (variable == 'l') :\n",
        "    temp.append((value * 5) + 5)\n",
        "  return sum(temp) / len(temp)"
      ],
      "execution_count": null,
      "outputs": []
    },
    {
      "cell_type": "code",
      "metadata": {
        "colab": {
          "base_uri": "https://localhost:8080/"
        },
        "id": "0iM6rbh9seHp",
        "outputId": "d5800ae9-3cdc-4a37-fce3-ff510d830d23"
      },
      "source": [
        "import itertools as it\n",
        "t = int(input(\"Enter water temperature : \"))\n",
        "g = int(input(\"Enter water grade : \"))\n",
        "\n",
        "temperature = {'ct': 'Cold Temp', 'mt': 'Medium Temp', 'ht': 'High Temp'}\n",
        "grade = {'lg': 'Low Grade', 'mg': 'Medium Grade', 'hg': 'High Grade'}\n",
        "\n",
        "l1, l1_rule = mapping_temperature(t)\n",
        "l2, l2_rule = mapping_grade(g)\n",
        "\n",
        "a = list(map(min, list(it.product(l1, l2))))\n",
        "b = list(it.product(l1_rule, l2_rule))\n",
        "\n",
        "temp1, temp2 = list(map(str, b[a.index(max(a))]))\n",
        "print(\"Input: \", temperature[temp1], grade[temp2])\n",
        "output = mapping_purifier(rule_base(temp1, temp2), max(a))\n",
        "print(\"Output: \", output)"
      ],
      "execution_count": null,
      "outputs": [
        {
          "output_type": "stream",
          "name": "stdout",
          "text": [
            "Enter water temperature : 100\n",
            "Enter water grade : 50\n",
            "Input:  High Temp Medium Grade\n",
            "Output:  0.0\n"
          ]
        }
      ]
    }
  ]
}