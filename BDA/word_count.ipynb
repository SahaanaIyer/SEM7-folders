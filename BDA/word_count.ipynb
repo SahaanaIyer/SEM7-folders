{
  "nbformat": 4,
  "nbformat_minor": 0,
  "metadata": {
    "colab": {
      "name": "word_count.ipynb",
      "provenance": [],
      "collapsed_sections": []
    },
    "kernelspec": {
      "name": "python3",
      "display_name": "Python 3"
    },
    "language_info": {
      "name": "python"
    }
  },
  "cells": [
    {
      "cell_type": "code",
      "metadata": {
        "id": "mmNkAApdVT3b"
      },
      "source": [
        "!apt-get install openjdk-8-jdk-headless -qq > /dev/null\n",
        "!wget -q http://apache.osuosl.org/spark/spark-2.4.8/spark-2.4.8-bin-hadoop2.7.tgz\n",
        "!tar xf spark-2.4.8-bin-hadoop2.7.tgz\n",
        "!pip install -q findspark"
      ],
      "execution_count": null,
      "outputs": []
    },
    {
      "cell_type": "code",
      "metadata": {
        "id": "N__F-op5YNre"
      },
      "source": [
        "import os\n",
        "os.environ[\"JAVA_HOME\"] = \"/usr/lib/jvm/java-8-openjdk-amd64\"\n",
        "os.environ[\"SPARK_HOME\"] = \"/content/spark-2.4.8-bin-hadoop2.7\""
      ],
      "execution_count": null,
      "outputs": []
    },
    {
      "cell_type": "code",
      "metadata": {
        "id": "tVRlnatPYw-I"
      },
      "source": [
        "import findspark\n",
        "findspark.init()\n",
        "from pyspark.sql import SparkSession\n",
        "spark = SparkSession.builder.master(\"local[*]\").getOrCreate()"
      ],
      "execution_count": null,
      "outputs": []
    },
    {
      "cell_type": "code",
      "metadata": {
        "colab": {
          "base_uri": "https://localhost:8080/"
        },
        "id": "Z7USprLnYyl1",
        "outputId": "9f3bcf09-d1b7-4d47-8112-0f81e4d32e1f"
      },
      "source": [
        "df = spark.createDataFrame([{\"Spark on\": \"Jupyter\"} for x in range(1000)])\n",
        "df.show(5)"
      ],
      "execution_count": null,
      "outputs": [
        {
          "output_type": "stream",
          "name": "stderr",
          "text": [
            "/content/spark-2.4.8-bin-hadoop2.7/python/pyspark/sql/session.py:346: UserWarning: inferring schema from dict is deprecated,please use pyspark.sql.Row instead\n",
            "  warnings.warn(\"inferring schema from dict is deprecated,\"\n"
          ]
        },
        {
          "output_type": "stream",
          "name": "stdout",
          "text": [
            "+--------+\n",
            "|Spark on|\n",
            "+--------+\n",
            "| Jupyter|\n",
            "| Jupyter|\n",
            "| Jupyter|\n",
            "| Jupyter|\n",
            "| Jupyter|\n",
            "+--------+\n",
            "only showing top 5 rows\n",
            "\n"
          ]
        }
      ]
    },
    {
      "cell_type": "code",
      "metadata": {
        "id": "ntSmcI3t53eG"
      },
      "source": [
        "from google.colab import files\n",
        "uploaded = files.upload()"
      ],
      "execution_count": null,
      "outputs": []
    },
    {
      "cell_type": "code",
      "metadata": {
        "colab": {
          "base_uri": "https://localhost:8080/"
        },
        "id": "g_q9XEpoZtkc",
        "outputId": "ca4a0a9a-f5b8-4beb-ee82-bdf0a9f7b9f7"
      },
      "source": [
        "# Expt 3 - Word Count using MapReduce\n",
        "\n",
        "import sys\n",
        "from pyspark.sql import SparkSession\n",
        "spark = SparkSession.builder.master(\"local\").appName(\"WordCount\").getOrCreate()\n",
        "spark = spark.sparkContext\n",
        "lines = spark.textFile(\"word_count.txt\")\n",
        "mapper = lines.flatMap(lambda line: line.split(' ')).map(lambda word: (word, 1))           # Mapping\n",
        "mapper.count()                                                                             # Combining\n",
        "reducer = mapper.reduceByKey(lambda a, b: a + b)                                           # Shuffling\n",
        "reducer = reducer.collect()                                                                # Reducing\n",
        "for (word, count) in reducer :\n",
        "    print(word, \": \", count)\n",
        "spark.stop()"
      ],
      "execution_count": null,
      "outputs": [
        {
          "output_type": "stream",
          "name": "stdout",
          "text": [
            "Bear :  1\n",
            "Frog :  2\n",
            "Rain :  1\n",
            "Deer :  3\n",
            "Car :  5\n",
            "River :  1\n"
          ]
        }
      ]
    }
  ]
}